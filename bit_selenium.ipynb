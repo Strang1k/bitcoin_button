{
 "cells": [
  {
   "cell_type": "code",
   "execution_count": null,
   "metadata": {},
   "outputs": [],
   "source": [
    "from selenium import webdriver\n",
    "from selenium.webdriver.common.by import By\n",
    "from selenium.webdriver.chrome.service import Service\n",
    "from selenium.webdriver.common.desired_capabilities import DesiredCapabilities\n",
    "from selenium.webdriver.common.keys import Keys\n",
    "from time import sleep, localtime\n",
    "import json"
   ]
  },
  {
   "cell_type": "code",
   "execution_count": null,
   "metadata": {},
   "outputs": [],
   "source": [
    "s = Service(executable_path= \"C:\\Games\\Code\\chromedriver.exe\")\n",
    "\n",
    "capabilities = DesiredCapabilities.CHROME.copy()\n",
    "capabilities[\"marionette\"] = True\n",
    "options = webdriver.ChromeOptions()\n",
    "options.binary_location = \"C:\\Program Files\\Google\\Chrome\\Application\\chrome.exe\" \n",
    "driver = webdriver.Chrome(options=options, service=s, desired_capabilities=capabilities)\n",
    "driver.delete_all_cookies()\n",
    "\n",
    "\n",
    "driver.get('https://meduza.io/live/2022/03/26/voyna')\n",
    "elem = driver.find_element(by=By.CLASS_NAME, value= 'Banner-root')\n",
    "print(elem.text)"
   ]
  },
  {
   "cell_type": "code",
   "execution_count": null,
   "metadata": {},
   "outputs": [],
   "source": [
    "driver.get('https://www.binance.com/en/activity/bitcoin-button-game')\n",
    "sleep(3)\n",
    "driver.find_element(By.ID, \"onetrust-accept-btn-handler\").click()\n",
    "driver.set_window_size(793, 287)\n",
    "# driver.find_element(By.CLASS_NAME, \"css-1s1ejcu\").click()\n",
    "sleep(1)\n",
    "driver.find_element(By.TAG_NAME, 'html').click()\n",
    "for i in range(3):\n",
    "    driver.find_element(By.TAG_NAME, 'html').send_keys(Keys.PAGE_DOWN)\n",
    "driver.find_element(By.TAG_NAME, 'html').send_keys(Keys.ARROW_UP)"
   ]
  },
  {
   "cell_type": "code",
   "execution_count": null,
   "metadata": {},
   "outputs": [],
   "source": [
    "lowers = []\n",
    "array = {}"
   ]
  },
  {
   "cell_type": "code",
   "execution_count": null,
   "metadata": {},
   "outputs": [],
   "source": [
    "lowest = '59'\n",
    "css = 'css-w39bvu'\n",
    "while True:\n",
    "    sleep(1)\n",
    "    bin = driver.page_source\n",
    "    if css in bin:\n",
    "        #driver.implicitly_wait(1)\n",
    "        x = bin.index(css, 1, 1000000 )\n",
    "        #print(x)\n",
    "        number1=bin[x+12:x+13]\n",
    "        y = bin.index(css, x+13, 1000000 )\n",
    "        #print(y)\n",
    "        number2 = bin[y+12:y+13]\n",
    "        timer = number1 + number2\n",
    "        print(timer, localtime()[2:6])\n",
    "        array[str(localtime()[2:6])] = timer\n"
   ]
  },
  {
   "cell_type": "code",
   "execution_count": null,
   "metadata": {},
   "outputs": [],
   "source": [
    "with open('Binance37.json', 'w', encoding='utf-8') as f: #исп36\n",
    "    json.dump(array, f)"
   ]
  },
  {
   "cell_type": "markdown",
   "metadata": {},
   "source": [
    "Можно выполнять код во время работы, после запуска браузера"
   ]
  }
 ],
 "metadata": {
  "interpreter": {
   "hash": "8bdddfcbdf35f1174d91508787a9c93eee9333e8f9b9d190752318df5f8bbf41"
  },
  "kernelspec": {
   "display_name": "Python 3.9.6 64-bit",
   "language": "python",
   "name": "python3"
  },
  "language_info": {
   "codemirror_mode": {
    "name": "ipython",
    "version": 3
   },
   "file_extension": ".py",
   "mimetype": "text/x-python",
   "name": "python",
   "nbconvert_exporter": "python",
   "pygments_lexer": "ipython3",
   "version": "3.9.6"
  },
  "orig_nbformat": 4
 },
 "nbformat": 4,
 "nbformat_minor": 2
}
